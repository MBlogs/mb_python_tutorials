{
 "cells": [
  {
   "cell_type": "markdown",
   "id": "48e14a98-2691-4621-939a-7c4944da040a",
   "metadata": {},
   "source": [
    "# Lists"
   ]
  },
  {
   "cell_type": "markdown",
   "id": "ad55b752-cbc2-4fd4-a1af-80718a91ed8f",
   "metadata": {},
   "source": [
    "We'll use comments within code from now on. Comments in Python are any line starting with a hashtag and in most editor will turn the line a different color. This lets Python know to ignore that line."
   ]
  },
  {
   "cell_type": "code",
   "execution_count": null,
   "id": "b33dbe42-c556-40d4-bace-c984215f3f57",
   "metadata": {},
   "outputs": [],
   "source": [
    "x = 10\n",
    "print(x)\n",
    "# x = 20\n",
    "print(x)"
   ]
  },
  {
   "cell_type": "markdown",
   "id": "3ddacb8c-3d7a-473a-b882-90e391e0a1d1",
   "metadata": {},
   "source": [
    "Most editors will  help you out by turning comments a different color"
   ]
  },
  {
   "cell_type": "markdown",
   "id": "1ffe40fb-97a2-4b2c-b8f4-0644d5cb2b4c",
   "metadata": {},
   "source": [
    "## Creating Lists"
   ]
  },
  {
   "cell_type": "markdown",
   "id": "0e4265ac-1771-49a7-9fca-3e687f4fab51",
   "metadata": {},
   "source": [
    "We'll often want to work with an ordered list of variables. We can use lists for that with square brackets [ ] and commas to seperate things."
   ]
  },
  {
   "cell_type": "code",
   "execution_count": 3,
   "id": "7a393be4-4846-410b-b819-23676100daa4",
   "metadata": {},
   "outputs": [
    {
     "name": "stdout",
     "output_type": "stream",
     "text": [
      "[10, 20, 30, 40]\n"
     ]
    }
   ],
   "source": [
    "my_list = [10, 20, 30, 40]\n",
    "print(my_list)"
   ]
  },
  {
   "cell_type": "markdown",
   "id": "82ec8de9-85a2-4590-9c81-c38c627ae699",
   "metadata": {},
   "source": [
    "To access a thing in the list we use square brackets again, but directly after the list name. We use an integer to fetch the thing in that position of the list (starting from 0!). We call the position in the list the _index_"
   ]
  },
  {
   "cell_type": "code",
   "execution_count": 10,
   "id": "809ac780-9848-441f-8c6f-f7deb4b1ab52",
   "metadata": {},
   "outputs": [
    {
     "name": "stdout",
     "output_type": "stream",
     "text": [
      "10\n",
      "30\n"
     ]
    }
   ],
   "source": [
    "my_list = [10, 20, 30, 40]\n",
    "print(my_list[0]) # thing in index 0\n",
    "print(my_list[2]) # thing in index 2"
   ]
  },
  {
   "cell_type": "markdown",
   "id": "63713199-6a41-4dbb-a8bf-4aa1e3c4d464",
   "metadata": {},
   "source": [
    "We define the list length as the number of things within it."
   ]
  },
  {
   "cell_type": "code",
   "execution_count": 6,
   "id": "3abf51cd-3347-4584-8d87-2ba9ac277675",
   "metadata": {},
   "outputs": [
    {
     "name": "stdout",
     "output_type": "stream",
     "text": [
      "4\n"
     ]
    }
   ],
   "source": [
    "my_list = [10, 20, 30, 40]\n",
    "print(len(my_list))"
   ]
  },
  {
   "cell_type": "markdown",
   "id": "dac9fd99-1fd0-42c1-8edb-05eb05736376",
   "metadata": {},
   "source": [
    " If we try to fetch from an index greater than the list length we get an error, saying our index is too high. \n",
    " \n",
    " Remember we start our indexes 0, so even though the length of the list is 4, _index_ 4 is outside the range of our list! "
   ]
  },
  {
   "cell_type": "code",
   "execution_count": 9,
   "id": "c013c04b-9463-48b1-b321-26ce31d03175",
   "metadata": {},
   "outputs": [
    {
     "ename": "IndexError",
     "evalue": "list index out of range",
     "output_type": "error",
     "traceback": [
      "\u001b[1;31m---------------------------------------------------------------------------\u001b[0m",
      "\u001b[1;31mIndexError\u001b[0m                                Traceback (most recent call last)",
      "\u001b[1;32m~\\AppData\\Local\\Temp/ipykernel_12920/232514543.py\u001b[0m in \u001b[0;36m<module>\u001b[1;34m\u001b[0m\n\u001b[0;32m      1\u001b[0m \u001b[0mmy_list\u001b[0m \u001b[1;33m=\u001b[0m \u001b[1;33m[\u001b[0m\u001b[1;36m10\u001b[0m\u001b[1;33m,\u001b[0m \u001b[1;36m20\u001b[0m\u001b[1;33m,\u001b[0m \u001b[1;36m30\u001b[0m\u001b[1;33m,\u001b[0m \u001b[1;36m40\u001b[0m\u001b[1;33m]\u001b[0m\u001b[1;33m\u001b[0m\u001b[1;33m\u001b[0m\u001b[0m\n\u001b[1;32m----> 2\u001b[1;33m \u001b[0mprint\u001b[0m\u001b[1;33m(\u001b[0m\u001b[0mmy_list\u001b[0m\u001b[1;33m[\u001b[0m\u001b[1;36m4\u001b[0m\u001b[1;33m]\u001b[0m\u001b[1;33m)\u001b[0m\u001b[1;33m\u001b[0m\u001b[1;33m\u001b[0m\u001b[0m\n\u001b[0m",
      "\u001b[1;31mIndexError\u001b[0m: list index out of range"
     ]
    }
   ],
   "source": [
    "my_list = [10, 20, 30, 40]\n",
    "print(my_list[4])"
   ]
  },
  {
   "cell_type": "markdown",
   "id": "fd256be7-521b-4810-9f4d-21657b3ccdc5",
   "metadata": {},
   "source": [
    "## Manipulating Lists"
   ]
  },
  {
   "cell_type": "markdown",
   "id": "7045b65a-7162-477a-ab26-125cffe4a6f4",
   "metadata": {},
   "source": [
    "There are functions to help change and manipulate lists. We will talk more about functions later, but to cover the important ones:\n",
    "\n",
    "Multiple lists can be stuck togehter with the add operator"
   ]
  },
  {
   "cell_type": "code",
   "execution_count": 19,
   "id": "e2ae57b5-521a-40f0-8048-29f057326c53",
   "metadata": {},
   "outputs": [
    {
     "name": "stdout",
     "output_type": "stream",
     "text": [
      "[10, 20, 30, 40, 50]\n"
     ]
    }
   ],
   "source": [
    "my_list = [10, 20, 30]\n",
    "\n",
    "# Notice that we have to make sure we are adding a list, with square brackets\n",
    "my_list = my_list + [40, 50]\n",
    "print(my_list)"
   ]
  },
  {
   "cell_type": "markdown",
   "id": "e157781f-b1a6-4bf3-90de-184195e64625",
   "metadata": {},
   "source": [
    "We can change the value of an element in the list, by assigning with the index and an ="
   ]
  },
  {
   "cell_type": "code",
   "execution_count": 26,
   "id": "b8fb8491-168e-4567-9bc9-30511812ea1f",
   "metadata": {},
   "outputs": [
    {
     "name": "stdout",
     "output_type": "stream",
     "text": [
      "[10, 20, 30]\n",
      "[10, 15, 30]\n"
     ]
    }
   ],
   "source": [
    "my_list = [10, 20, 30]\n",
    "print(my_list)\n",
    "# Change the middle element\n",
    "my_list[1] = 15\n",
    "print(my_list)"
   ]
  },
  {
   "cell_type": "markdown",
   "id": "2c235518-5195-440c-94cc-c3b5a986d13f",
   "metadata": {},
   "source": [
    "... or if you want to keep all the existing elements, you can push a new item into a particular index of the list with insert function. \n",
    "\n",
    "Note that this shifts all the items in higher indexes by one (to make room!)"
   ]
  },
  {
   "cell_type": "code",
   "execution_count": 28,
   "id": "983d7309-9e48-43c9-a0f5-2316e5c2e0a2",
   "metadata": {},
   "outputs": [
    {
     "name": "stdout",
     "output_type": "stream",
     "text": [
      "[10, 20, 30]\n"
     ]
    },
    {
     "data": {
      "text/plain": [
       "[10, 20, 25, 30]"
      ]
     },
     "execution_count": 28,
     "metadata": {},
     "output_type": "execute_result"
    }
   ],
   "source": [
    "my_list = [10, 20, 30]\n",
    "print(my_list)\n",
    "# index, item to add\n",
    "my_list.insert(2, 25) \n",
    "my_list"
   ]
  },
  {
   "cell_type": "markdown",
   "id": "8d327ee9-da3b-47ff-add3-659ef93b9ae5",
   "metadata": {},
   "source": [
    "# ToDo, remove Dictionaries"
   ]
  },
  {
   "cell_type": "markdown",
   "id": "d21da6aa-c384-4305-91db-01a316dce3b6",
   "metadata": {},
   "source": [
    "- For lists, we had an order to the things listed and accessed them with their position number (index)\n",
    "- Another common problem is we instead have a pair of datapoints.\n",
    "- We don't care about the order, just that one value is stored in association to another"
   ]
  },
  {
   "cell_type": "markdown",
   "id": "6ee0bc3e-9a1b-436c-aa47-287c0bea5b88",
   "metadata": {},
   "source": [
    "Dictionaries are the type to use here. The way we define is a bit fiddly so don't worry if you don't pick it up at first.\n",
    "They are defined using curly brackets, and a colon between the thing we use to reference and the value it refers to"
   ]
  },
  {
   "cell_type": "code",
   "execution_count": 12,
   "id": "dc970bde-d07b-4fda-8c73-9c4b0746dd67",
   "metadata": {},
   "outputs": [],
   "source": [
    "balances = {'alice':10, 'bob':20, 'eve':30}"
   ]
  },
  {
   "cell_type": "code",
   "execution_count": null,
   "id": "7f76479a-62e3-41d5-a087-fe723cf2999d",
   "metadata": {},
   "outputs": [],
   "source": [
    "The reference part is called the dictionary "
   ]
  },
  {
   "cell_type": "code",
   "execution_count": null,
   "id": "e6b404b7-6f01-4409-825d-45c14ca72726",
   "metadata": {},
   "outputs": [],
   "source": [
    "We then do not access with numbers, but instea"
   ]
  }
 ],
 "metadata": {
  "kernelspec": {
   "display_name": "Python 3 (ipykernel)",
   "language": "python",
   "name": "python3"
  },
  "language_info": {
   "codemirror_mode": {
    "name": "ipython",
    "version": 3
   },
   "file_extension": ".py",
   "mimetype": "text/x-python",
   "name": "python",
   "nbconvert_exporter": "python",
   "pygments_lexer": "ipython3",
   "version": "3.9.2"
  }
 },
 "nbformat": 4,
 "nbformat_minor": 5
}
