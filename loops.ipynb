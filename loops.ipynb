{
 "cells": [
  {
   "cell_type": "markdown",
   "id": "d9ca23c2-887d-44f4-8d37-eaf984472d7f",
   "metadata": {},
   "source": [
    "# Loops"
   ]
  },
  {
   "cell_type": "code",
   "execution_count": null,
   "id": "94d75070-7709-4b73-8b5f-78709bf64636",
   "metadata": {},
   "outputs": [],
   "source": [
    "Looping is a useful concept. It means to repeat certain bits of code until a condition is met. "
   ]
  },
  {
   "cell_type": "markdown",
   "id": "d23c2362-8968-406a-975c-3cd9724f7082",
   "metadata": {},
   "source": [
    "## While"
   ]
  },
  {
   "cell_type": "code",
   "execution_count": null,
   "id": "3fd3a9c9-9430-4c08-8fb2-1e1559ca18a0",
   "metadata": {},
   "outputs": [],
   "source": [
    "The simplest loop type is while. This executes code, repeatedly checking for if a condition is true."
   ]
  },
  {
   "cell_type": "code",
   "execution_count": 3,
   "id": "02c6d722-29b7-4d02-8e7e-85dd0b690970",
   "metadata": {},
   "outputs": [
    {
     "name": "stdout",
     "output_type": "stream",
     "text": [
      "1\n",
      "2\n",
      "3\n",
      "4\n",
      "5\n"
     ]
    }
   ],
   "source": [
    "x = 1\n",
    "while x <= 5:\n",
    "    print(x)\n",
    "    x = x + 1\n",
    "print(x)"
   ]
  },
  {
   "cell_type": "markdown",
   "id": "7f94962f-60bf-49f3-8628-2b6fc5677197",
   "metadata": {},
   "source": [
    "Side Note: Notice that the things to repeat in the loop are shifted\n",
    "\n",
    "- This is neccesary and introduces a new concept here: 'indentation' (multiple spaces)\n",
    "- When using certain structures like looping, Python requires that you indent the code\n",
    "- This is so it knows what sits inside and outside the range of a structure\n",
    "- This takes some getting use to but will become easier over time (and your code errors when its wrongly indented!)"
   ]
  },
  {
   "cell_type": "code",
   "execution_count": null,
   "id": "a7bb6ad1-c030-48c1-844d-8d93a8c9ec8d",
   "metadata": {},
   "outputs": [],
   "source": []
  },
  {
   "cell_type": "code",
   "execution_count": null,
   "id": "7abe0617-2173-4175-8ad6-c0dc3aad542c",
   "metadata": {},
   "outputs": [],
   "source": []
  }
 ],
 "metadata": {
  "kernelspec": {
   "display_name": "Python 3 (ipykernel)",
   "language": "python",
   "name": "python3"
  },
  "language_info": {
   "codemirror_mode": {
    "name": "ipython",
    "version": 3
   },
   "file_extension": ".py",
   "mimetype": "text/x-python",
   "name": "python",
   "nbconvert_exporter": "python",
   "pygments_lexer": "ipython3",
   "version": "3.9.2"
  }
 },
 "nbformat": 4,
 "nbformat_minor": 5
}
