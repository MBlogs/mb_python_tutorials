{
 "cells": [
  {
   "cell_type": "markdown",
   "id": "5e71c2a7-09a7-4a31-88ec-0a9fe39055ae",
   "metadata": {},
   "source": [
    "# IF, ELIF,ELSE"
   ]
  },
  {
   "cell_type": "markdown",
   "id": "c4f5be2d-e7d4-4fa0-9b79-b69e2884c48e",
   "metadata": {},
   "source": [
    "We often want to ask questions during our program.\n",
    "\n",
    "- Is a variable equal to another?\n",
    "- Is a number within a variable greater than another?\n",
    "\n",
    "After asking these questions we then want to do different things in response. This is where If/Else statements come in handy. \n",
    "\n",
    "The 'IF' checks some logic and will run when True. 'ELIF' is used for another condition to check if the above were False. The 'ELSE' runs when everything else was False."
   ]
  },
  {
   "cell_type": "code",
   "execution_count": 12,
   "id": "44c6ef51-b102-42a5-8527-86d118a547fa",
   "metadata": {},
   "outputs": [
    {
     "name": "stdout",
     "output_type": "stream",
     "text": [
      "Between 5 and 10\n"
     ]
    }
   ],
   "source": [
    "x = 9\n",
    "\n",
    "if x > 10:\n",
    "    print('Greater than 10')\n",
    "elif x >= 5:\n",
    "    print('Between 5 and 10')\n",
    "else:\n",
    "    print('Less than 5')"
   ]
  },
  {
   "cell_type": "markdown",
   "id": "4338bb7f-6598-4807-aba7-e6ec19a57db1",
   "metadata": {},
   "source": [
    "Side Note: Notice that we use a colon ater the main parts, and the things within each part are shifted\n",
    "\n",
    "- This is neccesary and introduces a new concept here: 'indentation' (multiple spaces)\n",
    "- When using certain structures like if/else statements, Python requires that you indent the code\n",
    "- This is so it knows what sits inside and outside of that structure to run\n",
    "- This takes some getting use to but will become easier over time (and your code errors when its wrongly indented!)"
   ]
  },
  {
   "cell_type": "markdown",
   "id": "541c58c1-a6c0-4ce7-8d97-eb9381560fbf",
   "metadata": {},
   "source": [
    "## Checking for Equality"
   ]
  },
  {
   "cell_type": "markdown",
   "id": "80e85415-7b48-46e5-b97e-d00b12de8adf",
   "metadata": {},
   "source": [
    "Equality is slightly less intuitive. Remember that a single = _assigns_ a value to a variable.\n",
    "\n",
    "So to ask the question does one thing equal another, we use double equals."
   ]
  },
  {
   "cell_type": "code",
   "execution_count": 8,
   "id": "870deb65-be02-4c1f-888d-1c6e4e376bbf",
   "metadata": {},
   "outputs": [
    {
     "name": "stdout",
     "output_type": "stream",
     "text": [
      "Those are the same!\n"
     ]
    }
   ],
   "source": [
    "if 5 == 5:\n",
    "    print(\"Those are the same!\")\n",
    "# Its perfectly fine to have an if statement on its own without an else if theres nothing to do when False."
   ]
  },
  {
   "cell_type": "markdown",
   "id": "60e2caa0-02af-4f6d-82d0-31181cd74d3d",
   "metadata": {},
   "source": [
    "## Combining logic"
   ]
  },
  {
   "cell_type": "markdown",
   "id": "e04b5159-e100-4a4e-95ee-7887ce74ade6",
   "metadata": {},
   "source": [
    "We often want to check multiple things at once. To do this we can either:\n",
    "- check combinations of things with logic words in the condition: and, or, not\n",
    "- write another if within the first ('nested' ifs)"
   ]
  },
  {
   "cell_type": "code",
   "execution_count": 24,
   "id": "0b0ff34f-7fc5-42c2-8a31-313eb8761ef1",
   "metadata": {},
   "outputs": [
    {
     "name": "stdout",
     "output_type": "stream",
     "text": [
      "At least one of them is less than 10\n",
      "At least one of them is less than 10\n"
     ]
    }
   ],
   "source": [
    "x = 4\n",
    "y = 15\n",
    "\n",
    "# This nested IF works and we get to know which is less than. \n",
    "# But harder to declare the case when the combined condition is False.\n",
    "if x > 10:\n",
    "    if y> 10:\n",
    "        print(\"Both are greater than 10\")\n",
    "    else:\n",
    "        print(\"x was greater, y was less than\")\n",
    "else:\n",
    "    print(\"x was less than 10\")\n"
   ]
  },
  {
   "cell_type": "code",
   "execution_count": 25,
   "id": "f7ee2794-9c90-42da-993f-64836db362b8",
   "metadata": {},
   "outputs": [
    {
     "name": "stdout",
     "output_type": "stream",
     "text": [
      "At least one of them is less than 10\n"
     ]
    }
   ],
   "source": [
    "x = 4\n",
    "y = 15\n",
    "\n",
    "# Easier to instead use an 'and' to check both at once\n",
    "if x > 10 and y > 10:\n",
    "    print(\"Both are greater than 10\")\n",
    "else:\n",
    "    print(\"At least one of them is less than 10\")"
   ]
  },
  {
   "cell_type": "markdown",
   "id": "2a31ad64-1ce8-4565-9c86-960d98c9df4f",
   "metadata": {},
   "source": [
    "Using a not inverts the whole check"
   ]
  },
  {
   "cell_type": "code",
   "execution_count": 27,
   "id": "f0c8a9cc-9ff4-4c94-8b43-b3e70c06e2b1",
   "metadata": {},
   "outputs": [
    {
     "name": "stdout",
     "output_type": "stream",
     "text": [
      "Greater than 10\n"
     ]
    }
   ],
   "source": [
    "x = 12\n",
    "\n",
    "if not x > 10:\n",
    "    print(\"Not greater than 10\")\n",
    "else:\n",
    "    print(\"Greater than 10\")"
   ]
  },
  {
   "cell_type": "markdown",
   "id": "6ac0cf31-ae32-493d-a269-5b7eb86486e4",
   "metadata": {},
   "source": [
    "# Exercise: Bank Payments"
   ]
  },
  {
   "cell_type": "code",
   "execution_count": 10,
   "id": "1c016a8a-bc9d-4c7c-badd-3b80455dc994",
   "metadata": {},
   "outputs": [
    {
     "name": "stdout",
     "output_type": "stream",
     "text": [
      "Payment approved\n"
     ]
    }
   ],
   "source": [
    "# Say we have a bank account, with a starting balance. \n",
    "# I deposit some money then attempt a payment. Can I do it? \n",
    "# Play around with some of these numbers!\n",
    "balance = 1000\n",
    "deposit = 50\n",
    "payment = 160\n",
    "\n",
    "if balance + deposit >= payment:\n",
    "    print(\"Payment approved\")\n",
    "else:\n",
    "    print(\"Payment denied\")"
   ]
  },
  {
   "cell_type": "code",
   "execution_count": null,
   "id": "8c65f485-a7b2-40d8-89e7-6c96d8ee80c4",
   "metadata": {},
   "outputs": [],
   "source": [
    "# The bank now has the ability to put a block on your account. Can you \n",
    "balance = 1000\n",
    "deposit = 50\n",
    "payment = 160\n",
    "account_blocked\n",
    "\n",
    "if balance + deposit >= payment and not account_blocked:\n",
    "    print(\"Payment approved\")\n",
    "else:\n",
    "    print(\"Payment denied\")"
   ]
  },
  {
   "cell_type": "code",
   "execution_count": null,
   "id": "b733ab41-5134-4b46-bdf2-15f4659fb223",
   "metadata": {},
   "outputs": [],
   "source": [
    "# Stretch: Customers have been complaining. They don't know why their payments are failing!\n",
    "# Can you write the if/else logic so that is prints the reason why a payment failed?\n",
    "# Prioritise informing that the account is blocked."
   ]
  }
 ],
 "metadata": {
  "kernelspec": {
   "display_name": "Python 3 (ipykernel)",
   "language": "python",
   "name": "python3"
  },
  "language_info": {
   "codemirror_mode": {
    "name": "ipython",
    "version": 3
   },
   "file_extension": ".py",
   "mimetype": "text/x-python",
   "name": "python",
   "nbconvert_exporter": "python",
   "pygments_lexer": "ipython3",
   "version": "3.9.2"
  }
 },
 "nbformat": 4,
 "nbformat_minor": 5
}
