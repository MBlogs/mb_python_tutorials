{
 "cells": [
  {
   "cell_type": "markdown",
   "id": "118108d6-38e0-46c0-9790-3fed955dc5a4",
   "metadata": {},
   "source": [
    "# Introduction to Variables and Types"
   ]
  },
  {
   "cell_type": "markdown",
   "id": "e45b6cf8-44f0-4c46-a2e3-ed4647a8c4a2",
   "metadata": {},
   "source": [
    "Python allows numeric computations with simple arithmetic.\n",
    "- \\+ Add\n",
    "- \\- Subtract\n",
    "- \\* Multiply\n",
    "- \\/ Divide"
   ]
  },
  {
   "cell_type": "code",
   "execution_count": 4,
   "id": "2d549b23-a88b-47e3-9f93-75b0da42b16b",
   "metadata": {},
   "outputs": [
    {
     "data": {
      "text/plain": [
       "7"
      ]
     },
     "execution_count": 4,
     "metadata": {},
     "output_type": "execute_result"
    }
   ],
   "source": [
    "5 + 2"
   ]
  },
  {
   "cell_type": "markdown",
   "id": "b37a2eb7-3363-4901-bc1f-03d34ad8169b",
   "metadata": {},
   "source": [
    "Our programs function better with variables. Variables are a placeholder name that we assign (=) to a certain value."
   ]
  },
  {
   "cell_type": "code",
   "execution_count": 3,
   "id": "d3aba268-be8a-440d-88db-249d5d4b3882",
   "metadata": {},
   "outputs": [
    {
     "data": {
      "text/plain": [
       "10"
      ]
     },
     "execution_count": 3,
     "metadata": {},
     "output_type": "execute_result"
    }
   ],
   "source": [
    "x = 5\n",
    "x + 5"
   ]
  },
  {
   "cell_type": "markdown",
   "id": "0d9fd553-ed18-4766-b5e8-e5a9e97572b6",
   "metadata": {},
   "source": [
    "The value of a variable can change as our program runs"
   ]
  },
  {
   "cell_type": "code",
   "execution_count": 4,
   "id": "3e92919a-64db-4efe-a620-81cff69f9c85",
   "metadata": {},
   "outputs": [
    {
     "name": "stdout",
     "output_type": "stream",
     "text": [
      "5\n",
      "10\n"
     ]
    }
   ],
   "source": [
    "x = 5\n",
    "print(x)\n",
    "x = 10\n",
    "print(x)"
   ]
  },
  {
   "cell_type": "markdown",
   "id": "3c4dbfa0-7069-4c2b-82e0-90d9a9134db0",
   "metadata": {},
   "source": [
    "<div class=\"alert alert-block alert-info\">Print is a function that tells Python to output what we put inside the brackets. More on functions soon </div>\n",
    "So far we've been sticking to integer variables. But can work with decimal numbers too, called 'floats' (short for floating point)"
   ]
  },
  {
   "cell_type": "code",
   "execution_count": 5,
   "id": "d33d61b7-7bfe-4d65-9e6d-79652f0f2655",
   "metadata": {},
   "outputs": [
    {
     "data": {
      "text/plain": [
       "5.0"
      ]
     },
     "execution_count": 5,
     "metadata": {},
     "output_type": "execute_result"
    }
   ],
   "source": [
    "x = 2.5\n",
    "y = 2\n",
    "x * y"
   ]
  },
  {
   "cell_type": "markdown",
   "id": "62a871ba-7385-48cf-98e8-fa9924b96ea4",
   "metadata": {},
   "source": [
    "A final important type of variable we want to use are pieces of text. \n",
    "- In programming, these are called 'strings' (of characters).\n",
    "- In Python we define them with either single quotes or double quotes"
   ]
  },
  {
   "cell_type": "code",
   "execution_count": 6,
   "id": "71f39df3-6adb-458b-bec8-42fc6a830efe",
   "metadata": {},
   "outputs": [
    {
     "name": "stdout",
     "output_type": "stream",
     "text": [
      "this is some text\n",
      "this is some other text\n"
     ]
    }
   ],
   "source": [
    "a = 'this is some text'\n",
    "print(a)\n",
    "a = \"this is some other text\"\n",
    "print(a)"
   ]
  },
  {
   "cell_type": "markdown",
   "id": "b8ba1a02-c657-41f7-95e7-f39f012f4fd5",
   "metadata": {},
   "source": [
    "We can manipulate strings, but the way we do so is different to numbers. Most of the time we need to use functions, although some symbols are assigned roles that make most sense for string manipulation.\n",
    "\n",
    "For example:\n",
    "- \\+ Concatenate text (stick together)\n",
    "- \\* Repeat the text multiple times"
   ]
  },
  {
   "cell_type": "code",
   "execution_count": 18,
   "id": "613b2d16-3654-4fb7-9f43-9b9477103894",
   "metadata": {},
   "outputs": [
    {
     "name": "stdout",
     "output_type": "stream",
     "text": [
      "first textsecond text\n",
      "hihihihihi\n"
     ]
    }
   ],
   "source": [
    "a = 'first text'\n",
    "b = 'second text'\n",
    "print(a + b)\n",
    "c = 'hi'\n",
    "print(c * 5)\n",
    "c = 'hi'"
   ]
  },
  {
   "cell_type": "markdown",
   "id": "b57bc004-ce29-4ad9-ad44-322a375f6e63",
   "metadata": {},
   "source": [
    "Some types of variables don't mix. If we try the below we get an error. \n"
   ]
  },
  {
   "cell_type": "code",
   "execution_count": 25,
   "id": "8d0c2f6b-d918-46d1-bdcc-b9e001c159d1",
   "metadata": {},
   "outputs": [
    {
     "ename": "TypeError",
     "evalue": "can only concatenate str (not \"int\") to str",
     "output_type": "error",
     "traceback": [
      "\u001b[1;31m---------------------------------------------------------------------------\u001b[0m",
      "\u001b[1;31mTypeError\u001b[0m                                 Traceback (most recent call last)",
      "\u001b[1;32m~\\AppData\\Local\\Temp/ipykernel_16580/2402796320.py\u001b[0m in \u001b[0;36m<module>\u001b[1;34m\u001b[0m\n\u001b[0;32m      2\u001b[0m \u001b[0mamount\u001b[0m \u001b[1;33m=\u001b[0m \u001b[1;36m50\u001b[0m\u001b[1;33m\u001b[0m\u001b[1;33m\u001b[0m\u001b[0m\n\u001b[0;32m      3\u001b[0m \u001b[1;33m\u001b[0m\u001b[0m\n\u001b[1;32m----> 4\u001b[1;33m \u001b[0mprint\u001b[0m\u001b[1;33m(\u001b[0m\u001b[0mtext\u001b[0m \u001b[1;33m+\u001b[0m \u001b[0mamount\u001b[0m\u001b[1;33m)\u001b[0m\u001b[1;33m\u001b[0m\u001b[1;33m\u001b[0m\u001b[0m\n\u001b[0m",
      "\u001b[1;31mTypeError\u001b[0m: can only concatenate str (not \"int\") to str"
     ]
    }
   ],
   "source": [
    "text = 'payment amount is: '\n",
    "amount = 50\n",
    "\n",
    "print(text + amount)"
   ]
  },
  {
   "cell_type": "markdown",
   "id": "e002e2ca-5d9f-47df-bd97-e23d2e08193c",
   "metadata": {},
   "source": [
    "- It might be clear to us what we wanted\n",
    "- but the program doesn't know how to add the _integer_ 5 to a _string_ of text\n",
    "- you can see the error points us to the problem: it can only concatenate str (strings) and we've instead given it an int (integer)\n",
    "- To fix, we'll use a function to to convert (also called 'casting') the integer 5 into the string '5' so that Python knows to concatenate"
   ]
  },
  {
   "cell_type": "code",
   "execution_count": 26,
   "id": "65b13d0b-cd09-4216-b0ec-cc67b9e9da80",
   "metadata": {},
   "outputs": [
    {
     "name": "stdout",
     "output_type": "stream",
     "text": [
      "payment amount is: 50\n"
     ]
    }
   ],
   "source": [
    "text = 'payment amount is: '\n",
    "amount = 50\n",
    "\n",
    "print(text + str(amount))"
   ]
  },
  {
   "cell_type": "markdown",
   "id": "63ce50a5-e8c9-44f8-af83-f6a709908de0",
   "metadata": {},
   "source": [
    "<div class=\"alert alert-block alert-info\">\n",
    "Python is untyped; it guesses what type of variable type we want when we assign variables Don't worry if its a little confusing, even seasoned programmers will accidentally introduce bugs into programs by misunderstanding types. For now, have an appreciation that the type of variable you are working with is important, and changes how it will interact with other variables\n",
    "</div>"
   ]
  },
  {
   "cell_type": "markdown",
   "id": "f61ada2d-307d-49ee-b332-685d91e00a64",
   "metadata": {},
   "source": [
    "A final type that will become of more interest when we talk about if and else statements are booleans.\n",
    "\n",
    "These can only take one of two values: True or False. More on these in a later section."
   ]
  },
  {
   "cell_type": "code",
   "execution_count": 27,
   "id": "430797d1-e53c-47e5-99cc-7ec87860b8e1",
   "metadata": {},
   "outputs": [],
   "source": [
    "my_yes = True\n",
    "my_no = False"
   ]
  }
 ],
 "metadata": {
  "kernelspec": {
   "display_name": "Python 3 (ipykernel)",
   "language": "python",
   "name": "python3"
  },
  "language_info": {
   "codemirror_mode": {
    "name": "ipython",
    "version": 3
   },
   "file_extension": ".py",
   "mimetype": "text/x-python",
   "name": "python",
   "nbconvert_exporter": "python",
   "pygments_lexer": "ipython3",
   "version": "3.9.2"
  }
 },
 "nbformat": 4,
 "nbformat_minor": 5
}
